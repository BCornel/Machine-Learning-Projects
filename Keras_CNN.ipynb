{
 "cells": [
  {
   "cell_type": "code",
   "execution_count": 1,
   "metadata": {
    "id": "OMzuHLXVjEoK"
   },
   "outputs": [
    {
     "name": "stderr",
     "output_type": "stream",
     "text": [
      "2022-11-15 16:06:29.658745: I tensorflow/core/platform/cpu_feature_guard.cc:193] This TensorFlow binary is optimized with oneAPI Deep Neural Network Library (oneDNN) to use the following CPU instructions in performance-critical operations:  AVX2 AVX512F AVX512_VNNI FMA\n",
      "To enable them in other operations, rebuild TensorFlow with the appropriate compiler flags.\n",
      "2022-11-15 16:06:29.760871: I tensorflow/core/util/util.cc:169] oneDNN custom operations are on. You may see slightly different numerical results due to floating-point round-off errors from different computation orders. To turn them off, set the environment variable `TF_ENABLE_ONEDNN_OPTS=0`.\n",
      "2022-11-15 16:06:29.764379: W tensorflow/stream_executor/platform/default/dso_loader.cc:64] Could not load dynamic library 'libcudart.so.11.0'; dlerror: libcudart.so.11.0: cannot open shared object file: No such file or directory\n",
      "2022-11-15 16:06:29.764387: I tensorflow/stream_executor/cuda/cudart_stub.cc:29] Ignore above cudart dlerror if you do not have a GPU set up on your machine.\n",
      "2022-11-15 16:06:29.786333: E tensorflow/stream_executor/cuda/cuda_blas.cc:2981] Unable to register cuBLAS factory: Attempting to register factory for plugin cuBLAS when one has already been registered\n",
      "2022-11-15 16:06:30.162114: W tensorflow/stream_executor/platform/default/dso_loader.cc:64] Could not load dynamic library 'libnvinfer.so.7'; dlerror: libnvinfer.so.7: cannot open shared object file: No such file or directory\n",
      "2022-11-15 16:06:30.162162: W tensorflow/stream_executor/platform/default/dso_loader.cc:64] Could not load dynamic library 'libnvinfer_plugin.so.7'; dlerror: libnvinfer_plugin.so.7: cannot open shared object file: No such file or directory\n",
      "2022-11-15 16:06:30.162166: W tensorflow/compiler/tf2tensorrt/utils/py_utils.cc:38] TF-TRT Warning: Cannot dlopen some TensorRT libraries. If you would like to use Nvidia GPU with TensorRT, please make sure the missing libraries mentioned above are installed properly.\n"
     ]
    }
   ],
   "source": [
    "import numpy as np\n",
    "from keras.models import Sequential\n",
    "from keras.layers import Activation, Dense, Dropout\n",
    "from keras.layers import Conv2D, MaxPooling2D, Flatten, AveragePooling2D\n",
    "from keras.utils.np_utils import to_categorical \n",
    "from keras.utils.vis_utils import plot_model\n",
    "from keras.datasets import mnist"
   ]
  },
  {
   "cell_type": "code",
   "execution_count": 2,
   "metadata": {
    "colab": {
     "base_uri": "https://localhost:8080/"
    },
    "id": "4nxOgup2kYp3",
    "outputId": "0b21e770-affd-438d-9e04-3faacb4dca0f"
   },
   "outputs": [
    {
     "name": "stdout",
     "output_type": "stream",
     "text": [
      "\n",
      "y_train dimension: (60000,)\n",
      "Sample y_train: [5 0 4 1 9 2 1 3 1 4 3 5 3 6 1 7 2 8 6 9]\n",
      "\n",
      "Unique Labels: 10\n"
     ]
    }
   ],
   "source": [
    "# load mnist dataset\n",
    "(x_train, y_train), (x_test, y_test) = mnist.load_data()\n",
    "\n",
    "# compute the number of labels\n",
    "num_labels = len(np.unique(y_train))\n",
    "\n",
    "#Check Y dataset\n",
    "print('\\ny_train dimension:',y_train.shape)\n",
    "print('Sample y_train:',y_train[:20,])\n",
    "\n",
    "# compute the number of labels\n",
    "num_labels = len(np.unique(y_train))\n",
    "print('\\nUnique Labels:',num_labels)"
   ]
  },
  {
   "cell_type": "code",
   "execution_count": 3,
   "metadata": {
    "colab": {
     "base_uri": "https://localhost:8080/"
    },
    "id": "o9Drp4LbloZz",
    "outputId": "e9dea422-8ebd-4aa9-a71b-120dab98d910"
   },
   "outputs": [
    {
     "name": "stdout",
     "output_type": "stream",
     "text": [
      "y_train dimension: (60000, 10)\n",
      "\n",
      "Sample y_train: [[0. 0. 0. 0. 0. 1. 0. 0. 0. 0.]\n",
      " [1. 0. 0. 0. 0. 0. 0. 0. 0. 0.]\n",
      " [0. 0. 0. 0. 1. 0. 0. 0. 0. 0.]\n",
      " [0. 1. 0. 0. 0. 0. 0. 0. 0. 0.]\n",
      " [0. 0. 0. 0. 0. 0. 0. 0. 0. 1.]\n",
      " [0. 0. 1. 0. 0. 0. 0. 0. 0. 0.]\n",
      " [0. 1. 0. 0. 0. 0. 0. 0. 0. 0.]\n",
      " [0. 0. 0. 1. 0. 0. 0. 0. 0. 0.]\n",
      " [0. 1. 0. 0. 0. 0. 0. 0. 0. 0.]\n",
      " [0. 0. 0. 0. 1. 0. 0. 0. 0. 0.]]\n"
     ]
    }
   ],
   "source": [
    "# convert to one-hot vector\n",
    "y_train = to_categorical(y_train)\n",
    "y_test = to_categorical(y_test)\n",
    "\n",
    "#Check one-hot encoded y dataset\n",
    "print('y_train dimension:',y_train.shape)\n",
    "print('\\nSample y_train:',y_train[:10,:])"
   ]
  },
  {
   "cell_type": "code",
   "execution_count": 4,
   "metadata": {
    "colab": {
     "base_uri": "https://localhost:8080/"
    },
    "id": "PJ2LHhy_n-4q",
    "outputId": "0821ddd2-5ca4-4abd-fdbe-7be5f94932ff"
   },
   "outputs": [
    {
     "name": "stdout",
     "output_type": "stream",
     "text": [
      "X train shape: (60000, 28, 28)\n"
     ]
    }
   ],
   "source": [
    "# Check X train dimension\n",
    "print('X train shape:',x_train.shape)"
   ]
  },
  {
   "cell_type": "code",
   "execution_count": 5,
   "metadata": {
    "id": "tk3WW3PvIzhM"
   },
   "outputs": [],
   "source": [
    "#Input Image size\n",
    "image_size = x_train.shape[1]\n",
    "\n",
    "# resize and normalize\n",
    "x_train = np.reshape(x_train,[-1, image_size, image_size, 1])\n",
    "x_test = np.reshape(x_test,[-1, image_size, image_size, 1])\n",
    "\n",
    "x_train = x_train.astype('float32') / 255\n",
    "x_test = x_test.astype('float32') / 255"
   ]
  },
  {
   "cell_type": "code",
   "execution_count": 6,
   "metadata": {
    "colab": {
     "base_uri": "https://localhost:8080/"
    },
    "id": "3gwPh77oCCCz",
    "outputId": "48fdf468-4760-4abe-b7f8-5730a5089379"
   },
   "outputs": [
    {
     "name": "stdout",
     "output_type": "stream",
     "text": [
      "Model: \"sequential\"\n",
      "_________________________________________________________________\n",
      " Layer (type)                Output Shape              Param #   \n",
      "=================================================================\n",
      " conv2d (Conv2D)             (None, 26, 26, 64)        640       \n",
      "                                                                 \n",
      " max_pooling2d (MaxPooling2D  (None, 13, 13, 64)       0         \n",
      " )                                                               \n",
      "                                                                 \n",
      " conv2d_1 (Conv2D)           (None, 11, 11, 64)        36928     \n",
      "                                                                 \n",
      " max_pooling2d_1 (MaxPooling  (None, 5, 5, 64)         0         \n",
      " 2D)                                                             \n",
      "                                                                 \n",
      " conv2d_2 (Conv2D)           (None, 3, 3, 64)          36928     \n",
      "                                                                 \n",
      " flatten (Flatten)           (None, 576)               0         \n",
      "                                                                 \n",
      " dropout (Dropout)           (None, 576)               0         \n",
      "                                                                 \n",
      " dense (Dense)               (None, 10)                5770      \n",
      "                                                                 \n",
      " activation (Activation)     (None, 10)                0         \n",
      "                                                                 \n",
      "=================================================================\n",
      "Total params: 80,266\n",
      "Trainable params: 80,266\n",
      "Non-trainable params: 0\n",
      "_________________________________________________________________\n"
     ]
    },
    {
     "name": "stderr",
     "output_type": "stream",
     "text": [
      "2022-11-15 16:06:38.073668: W tensorflow/stream_executor/platform/default/dso_loader.cc:64] Could not load dynamic library 'libcuda.so.1'; dlerror: libcuda.so.1: cannot open shared object file: No such file or directory\n",
      "2022-11-15 16:06:38.073684: W tensorflow/stream_executor/cuda/cuda_driver.cc:263] failed call to cuInit: UNKNOWN ERROR (303)\n",
      "2022-11-15 16:06:38.073697: I tensorflow/stream_executor/cuda/cuda_diagnostics.cc:156] kernel driver does not appear to be running on this host (crumblerworm): /proc/driver/nvidia/version does not exist\n",
      "2022-11-15 16:06:38.073863: I tensorflow/core/platform/cpu_feature_guard.cc:193] This TensorFlow binary is optimized with oneAPI Deep Neural Network Library (oneDNN) to use the following CPU instructions in performance-critical operations:  AVX2 AVX512F AVX512_VNNI FMA\n",
      "To enable them in other operations, rebuild TensorFlow with the appropriate compiler flags.\n"
     ]
    }
   ],
   "source": [
    "# network parameters\n",
    "# image is processed as is (square grayscale)\n",
    "\n",
    "input_shape = (image_size, image_size, 1)\n",
    "batch_size = 128\n",
    "kernel_size = 3\n",
    "pool_size = 2\n",
    "filters = 64\n",
    "dropout = 0.2\n",
    "\n",
    "# model is a stack of CNN-ReLU-MaxPooling\n",
    "model = Sequential()\n",
    "model.add(Conv2D(filters=filters,\n",
    "                 kernel_size=kernel_size,\n",
    "                 activation='relu',\n",
    "                 input_shape=input_shape))\n",
    "\n",
    "model.add(MaxPooling2D(pool_size))\n",
    "\n",
    "model.add(Conv2D(filters=filters,\n",
    "                 kernel_size=kernel_size,\n",
    "                 activation='relu'))\n",
    "\n",
    "model.add(MaxPooling2D(pool_size))\n",
    "\n",
    "model.add(Conv2D(filters=filters,\n",
    "                 kernel_size=kernel_size,\n",
    "                 activation='relu'))\n",
    "\n",
    "model.add(Flatten())\n",
    "# dropout added as regularizer\n",
    "model.add(Dropout(dropout))\n",
    "# output layer is 10-dim one-hot vector\n",
    "model.add(Dense(num_labels))\n",
    "model.add(Activation('softmax'))\n",
    "\n",
    "model.summary()"
   ]
  },
  {
   "cell_type": "code",
   "execution_count": 7,
   "metadata": {
    "colab": {
     "base_uri": "https://localhost:8080/"
    },
    "id": "sh5guyfy9hKe",
    "outputId": "302486e4-68bb-40fb-d693-9f88b11089e0"
   },
   "outputs": [
    {
     "name": "stdout",
     "output_type": "stream",
     "text": [
      "Epoch 1/10\n",
      "469/469 [==============================] - 16s 34ms/step - loss: 0.2604 - accuracy: 0.9194\n",
      "Epoch 2/10\n",
      "469/469 [==============================] - 16s 34ms/step - loss: 0.0675 - accuracy: 0.9794\n",
      "Epoch 3/10\n",
      "469/469 [==============================] - 16s 35ms/step - loss: 0.0491 - accuracy: 0.9845\n",
      "Epoch 4/10\n",
      "469/469 [==============================] - 17s 36ms/step - loss: 0.0404 - accuracy: 0.9873\n",
      "Epoch 5/10\n",
      "469/469 [==============================] - 17s 36ms/step - loss: 0.0335 - accuracy: 0.9890\n",
      "Epoch 6/10\n",
      "469/469 [==============================] - 17s 36ms/step - loss: 0.0289 - accuracy: 0.9907\n",
      "Epoch 7/10\n",
      "469/469 [==============================] - 17s 36ms/step - loss: 0.0245 - accuracy: 0.9920\n",
      "Epoch 8/10\n",
      "469/469 [==============================] - 17s 36ms/step - loss: 0.0215 - accuracy: 0.9929\n",
      "Epoch 9/10\n",
      "469/469 [==============================] - 17s 36ms/step - loss: 0.0193 - accuracy: 0.9937\n",
      "Epoch 10/10\n",
      "469/469 [==============================] - 17s 36ms/step - loss: 0.0184 - accuracy: 0.9938\n"
     ]
    }
   ],
   "source": [
    "# loss function for one-hot vector\n",
    "# use of adam optimizer\n",
    "# accuracy is good metric for classification tasks\n",
    "model.compile(loss='categorical_crossentropy',\n",
    "              optimizer='adam',\n",
    "              metrics=['accuracy'])\n",
    "\n",
    "# train the network\n",
    "history_max=model.fit(x_train, y_train, epochs=10, batch_size=batch_size)"
   ]
  },
  {
   "cell_type": "code",
   "execution_count": 8,
   "metadata": {
    "colab": {
     "base_uri": "https://localhost:8080/"
    },
    "id": "Jd_1P9ZhvAVU",
    "outputId": "0851bf6b-95f1-475d-cb32-833b10864bd5"
   },
   "outputs": [
    {
     "name": "stdout",
     "output_type": "stream",
     "text": [
      "<keras.callbacks.History object at 0x7f162af633a0>\n",
      "79/79 [==============================] - 1s 13ms/step - loss: 0.0293 - accuracy: 0.9907\n",
      "\n",
      "Test accuracy: 99.07%\n",
      "\n",
      "Test loss: 0.029\n"
     ]
    }
   ],
   "source": [
    "print(history_max)\n",
    "loss_max, acc_max = model.evaluate(x_test, y_test, batch_size=batch_size)\n",
    "print(\"\\nTest accuracy: %.2f%%\" % (100.0 * acc_max))\n",
    "print(\"\\nTest loss: %.3f\" %loss_max)"
   ]
  },
  {
   "cell_type": "code",
   "execution_count": 9,
   "metadata": {
    "id": "90xcaG_W1wMd"
   },
   "outputs": [
    {
     "name": "stdout",
     "output_type": "stream",
     "text": [
      "313/313 [==============================] - 1s 3ms/step\n"
     ]
    }
   ],
   "source": [
    "#Make predictions using the trained model\n",
    "y_pred_max =model.predict(x_test)"
   ]
  },
  {
   "cell_type": "markdown",
   "metadata": {
    "id": "stXhMel8I3CX"
   },
   "source": [
    "### Diagnose the trained CNN model, which digits are least and most misclassified by the model in the test dataset? \n",
    "<br><br>"
   ]
  },
  {
   "cell_type": "code",
   "execution_count": 10,
   "metadata": {
    "colab": {
     "base_uri": "https://localhost:8080/"
    },
    "id": "3EZYzcPhI4Ar",
    "outputId": "839f00c1-8c28-449d-b301-064956300d43"
   },
   "outputs": [
    {
     "name": "stdout",
     "output_type": "stream",
     "text": [
      "Total Incorrect Classifications: 93\n",
      "The most misclassified number is 9\n",
      "The least misclassified number is 0\n"
     ]
    }
   ],
   "source": [
    "# Organize predictions and model\n",
    "class_model = np.argmax(y_pred_max,axis=1)\n",
    "class_test = np.argmax(y_test,axis=1)\n",
    "\n",
    "# Find incorrect predictions\n",
    "incorrects = np.where(class_model != class_test)[0]\n",
    "print('Total Incorrect Classifications:',len(incorrects))\n",
    "\n",
    "# Get true and predictions from the misclassified indices\n",
    "true_labels=class_test[incorrects]\n",
    "pred_labels=class_model[incorrects]\n",
    "\n",
    "# Combine into matrix and find frequency\n",
    "misclass=np.unique(np.array([true_labels, pred_labels]),\n",
    "                    return_counts=True)\n",
    "\n",
    "# Output maximum and minimum misclassifications\n",
    "max=np.argmax(misclass[1])  # most frequent index\n",
    "min=np.argmin(misclass[1])  # least frequent index\n",
    "print('The most misclassified number is %s'%misclass[0][max])\n",
    "print('The least misclassified number is %s'%misclass[0][min])\n"
   ]
  },
  {
   "cell_type": "markdown",
   "metadata": {
    "id": "8Phnp5gHTHbw"
   },
   "source": [
    "I will replace Max pooling layers with Average pooling layers in the above code nd check if it impacts the performance of the model on the test dataset \n",
    "<br><br>\n",
    "\n",
    "**Looking at the accuracy and loss functions over the epochs, the max pooling has slightly better accuracy and its loss function is minimized more, but over takes more time to run, meaning it is less computationally efficient. The slightly better accuracy comes at the expense of computaion.**"
   ]
  },
  {
   "cell_type": "code",
   "execution_count": 11,
   "metadata": {
    "colab": {
     "base_uri": "https://localhost:8080/"
    },
    "id": "h7jDvAEwJpIr",
    "outputId": "6aaa1b1d-904c-4dae-caa5-6b4ee94a07d1"
   },
   "outputs": [
    {
     "name": "stdout",
     "output_type": "stream",
     "text": [
      "Model: \"sequential_1\"\n",
      "_________________________________________________________________\n",
      " Layer (type)                Output Shape              Param #   \n",
      "=================================================================\n",
      " conv2d_3 (Conv2D)           (None, 26, 26, 64)        640       \n",
      "                                                                 \n",
      " average_pooling2d (AverageP  (None, 13, 13, 64)       0         \n",
      " ooling2D)                                                       \n",
      "                                                                 \n",
      " conv2d_4 (Conv2D)           (None, 11, 11, 64)        36928     \n",
      "                                                                 \n",
      " average_pooling2d_1 (Averag  (None, 5, 5, 64)         0         \n",
      " ePooling2D)                                                     \n",
      "                                                                 \n",
      " conv2d_5 (Conv2D)           (None, 3, 3, 64)          36928     \n",
      "                                                                 \n",
      " flatten_1 (Flatten)         (None, 576)               0         \n",
      "                                                                 \n",
      " dropout_1 (Dropout)         (None, 576)               0         \n",
      "                                                                 \n",
      " dense_1 (Dense)             (None, 10)                5770      \n",
      "                                                                 \n",
      " activation_1 (Activation)   (None, 10)                0         \n",
      "                                                                 \n",
      "=================================================================\n",
      "Total params: 80,266\n",
      "Trainable params: 80,266\n",
      "Non-trainable params: 0\n",
      "_________________________________________________________________\n",
      "Epoch 1/10\n",
      "469/469 [==============================] - 16s 34ms/step - loss: 0.3203 - accuracy: 0.9029\n",
      "Epoch 2/10\n",
      "469/469 [==============================] - 16s 35ms/step - loss: 0.0878 - accuracy: 0.9735\n",
      "Epoch 3/10\n",
      "469/469 [==============================] - 17s 36ms/step - loss: 0.0620 - accuracy: 0.9812\n",
      "Epoch 4/10\n",
      "469/469 [==============================] - 17s 36ms/step - loss: 0.0511 - accuracy: 0.9841\n",
      "Epoch 5/10\n",
      "469/469 [==============================] - 16s 35ms/step - loss: 0.0427 - accuracy: 0.9869\n",
      "Epoch 6/10\n",
      "469/469 [==============================] - 17s 35ms/step - loss: 0.0361 - accuracy: 0.9886\n",
      "Epoch 7/10\n",
      "469/469 [==============================] - 17s 37ms/step - loss: 0.0330 - accuracy: 0.9894\n",
      "Epoch 8/10\n",
      "469/469 [==============================] - 16s 35ms/step - loss: 0.0289 - accuracy: 0.9910\n",
      "Epoch 9/10\n",
      "469/469 [==============================] - 17s 36ms/step - loss: 0.0252 - accuracy: 0.9921\n",
      "Epoch 10/10\n",
      "469/469 [==============================] - 17s 37ms/step - loss: 0.0226 - accuracy: 0.9930\n",
      "79/79 [==============================] - 1s 14ms/step - loss: 0.0231 - accuracy: 0.9923\n",
      "\n",
      "Test accuracy: 99.23%\n",
      "\n",
      "Test loss: 0.023\n",
      "313/313 [==============================] - 1s 3ms/step\n",
      "<keras.callbacks.History object at 0x7f15cdb30c10>\n"
     ]
    }
   ],
   "source": [
    "\n",
    "def average_pool_model(filters, kernel_size, input_shape, pool_size):\n",
    "  # model is a stack of CNN-ReLU-MaxPooling\n",
    "  model = Sequential()\n",
    "  model.add(Conv2D(filters=filters,\n",
    "                  kernel_size=kernel_size,\n",
    "                  activation='relu',\n",
    "                  input_shape=input_shape))\n",
    "\n",
    "  model.add(AveragePooling2D(pool_size))\n",
    "\n",
    "  model.add(Conv2D(filters=filters,\n",
    "                  kernel_size=kernel_size,\n",
    "                  activation='relu'))\n",
    "\n",
    "  model.add(AveragePooling2D(pool_size))\n",
    "\n",
    "  model.add(Conv2D(filters=filters,\n",
    "                  kernel_size=kernel_size,\n",
    "                  activation='relu'))\n",
    "  model.add(Flatten())\n",
    "  # dropout added as regularizer\n",
    "  model.add(Dropout(dropout))\n",
    "  # output layer is 10-dim one-hot vector\n",
    "  model.add(Dense(num_labels))\n",
    "  model.add(Activation('softmax'))\n",
    "  model.summary()\n",
    "\n",
    "  # loss function for one-hot vector\n",
    "  model.compile(loss='categorical_crossentropy',\n",
    "                optimizer='adam',\n",
    "                metrics=['accuracy'])\n",
    "\n",
    "  # train the network\n",
    "  history=model.fit(x_train, y_train, epochs=10, batch_size=batch_size)\n",
    "  loss, acc = model.evaluate(x_test, y_test, batch_size=batch_size)\n",
    "  print(\"\\nTest accuracy: %.2f%%\" % (100.0 * acc))\n",
    "  print(\"\\nTest loss: %.3f\" %loss)\n",
    "\n",
    "  #Make predictions using the trained model\n",
    "  y_pred =model.predict(x_test)\n",
    "\n",
    "  return model, y_pred, history, acc, loss\n",
    "\n",
    "avg_model, y_pred_avg, history_avg, acc_avg, loss = average_pool_model(filters, kernel_size, input_shape, pool_size)\n",
    "print(history_avg)"
   ]
  },
  {
   "cell_type": "markdown",
   "metadata": {
    "id": "TIvEtIVfd6dQ"
   },
   "source": [
    "79/79 [==============================] - 3s 33ms/step - loss: 0.0246 - accuracy: 0.9930\n",
    "\n",
    "Test accuracy: 99.30%\n",
    "\n",
    "Test loss: 0.025"
   ]
  },
  {
   "cell_type": "code",
   "execution_count": 13,
   "metadata": {
    "colab": {
     "base_uri": "https://localhost:8080/",
     "height": 573
    },
    "id": "5zhUC6qgUAe1",
    "outputId": "85ad2745-fec5-48eb-9be5-5a6915ce96bd"
   },
   "outputs": [
    {
     "data": {
      "image/png": "[encoded data removed]",
      "text/plain": [
       "<Figure size 640x480 with 1 Axes>"
      ]
     },
     "metadata": {},
     "output_type": "display_data"
    },
    {
     "data": {
      "image/png": "[encoded data removed]",
      "text/plain": [
       "<Figure size 640x480 with 1 Axes>"
      ]
     },
     "metadata": {},
     "output_type": "display_data"
    }
   ],
   "source": [
    "import matplotlib.pyplot as plt\n",
    "loss_values_max = history_max.history['loss']\n",
    "loss_values_avg = history_avg.history['loss']\n",
    "epochs=range(1,history_avg.params['epochs']+1)\n",
    "\n",
    "plt.plot(epochs, loss_values_max, label='Max_pooling Loss')\n",
    "plt.plot(epochs, loss_values_avg, label='Avg_pooling loss')\n",
    "plt.xlabel('Epochs')\n",
    "plt.ylabel('Loss')\n",
    "plt.title('Loss Function')\n",
    "plt.legend()\n",
    "plt.show()\n",
    "\n",
    "acc_values_max = history_max.history['accuracy']\n",
    "acc_values_avg = history_avg.history['accuracy']\n",
    "\n",
    "plt.plot(epochs, acc_values_max, label='Max_pooling acc')\n",
    "plt.plot(epochs, acc_values_avg, label='Avg_pooling acc')\n",
    "plt.xlabel('Epochs')\n",
    "plt.ylabel('Acc')\n",
    "plt.title('Accuracy Function')\n",
    "plt.legend()\n",
    "plt.show()"
   ]
  },
  {
   "cell_type": "code",
   "execution_count": null,
   "metadata": {},
   "outputs": [],
   "source": []
  }
 ],
 "metadata": {
  "colab": {
   "provenance": []
  },
  "kernelspec": {
   "display_name": "Python 3 (ipykernel)",
   "language": "python",
   "name": "python3"
  },
  "language_info": {
   "codemirror_mode": {
    "name": "ipython",
    "version": 3
   },
   "file_extension": ".py",
   "mimetype": "text/x-python",
   "name": "python",
   "nbconvert_exporter": "python",
   "pygments_lexer": "ipython3",
   "version": "3.9.13"
  }
 },
 "nbformat": 4,
 "nbformat_minor": 4
}
