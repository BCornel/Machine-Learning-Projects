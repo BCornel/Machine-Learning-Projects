{
 "cells": [
  {
   "cell_type": "markdown",
   "metadata": {
    "id": "LMP9mQp5ASMv"
   },
   "source": [
    "# Automatic classification of seismic P-wave receiver functions using Random Forests (RF)"
   ]
  },
  {
   "cell_type": "markdown",
   "metadata": {
    "id": "Jc9COOgCASM1"
   },
   "source": [
    "Train Random Forests to automatically classify the seismic P-wave receiver functions, one on logistic regression and the other one on decision trees.\n",
    "\n",
    "The goal is to classify the P-wave receiver functions, which were computed based on the recorded seismic data, into two categories: good and bad. The entire data set consists of 12,597 receiver functions (i.e., seismic traces), each of which was visually examined and manually labeled as either good or bad by one of Prof. Aibing Li's PhD students, Ying Zhang, in the Department of Earth and Atmospheric Sciences at University of Houston. The good seismic traces are labled (or, encoded) as 1, and bad seismic traces are encoded as 0. <br>\n",
    "\n"
   ]
  },
  {
   "cell_type": "markdown",
   "metadata": {
    "id": "SGy0azRRASM3"
   },
   "source": [
    "## 2. Import data\n",
    "Import the amplitude data and the labels from *Traces_qc.mat*. Be sure to store the seismic amplitudes from all seismic stations into the varible **amp_data**, and the labels for all the seismic traces into the variable **label_data**. \n",
    "\n",
    "\n",
    "Download the Traces dataset at https://drive.google.com/file/d/1vSBcmbga-o8Eti1e5S08LwPD0hCmjL2c/view?usp=share_link"
   ]
  },
  {
   "cell_type": "code",
   "execution_count": 1,
   "metadata": {
    "id": "kOHj2fkUASM3",
    "tags": []
   },
   "outputs": [],
   "source": [
    "import numpy as np\n",
    "import h5py  # The h5py package is a Pythonic interface to the HDF5 binary data format. https://www.h5py.org/\n",
    "with h5py.File(\"./Traces_qc.mat\") as f:\n",
    "    # note that we are using the data file from your Lab 3. This is to save some space for your Google Drive. So, plese be sure that your Lab 3 folder contain Traces_qc.mat.\n",
    "    ampdata = [f[element[0]][:] for element in f[\"Data\"][\"amps\"]]\n",
    "    flag = [f[element[0]][:] for element in f[\"Data\"][\"Flags\"]]\n",
    "    ntr = [f[element[0]][:] for element in f[\"Data\"][\"ntr\"]]\n",
    "    time = [f[element[0]][:] for element in f[\"Data\"][\"time\"]]\n",
    "    staname = [f[element[0]][:] for element in f[\"Data\"][\"staname\"]]\n",
    "    \n",
    "ampall = np.zeros((1,651))\n",
    "flagall = np.zeros(1)\n",
    "for i in np.arange(201):\n",
    "    ampall = np.vstack((ampall, ampdata[i]))\n",
    "    flagall = np.vstack((flagall, flag[i]))\n",
    "amp_data = np.delete(ampall, 0, 0)\n",
    "label_data = np.delete(flagall, 0, 0)"
   ]
  },
  {
   "cell_type": "code",
   "execution_count": 2,
   "metadata": {
    "colab": {
     "base_uri": "https://localhost:8080/"
    },
    "id": "fi_9wc4_ASM5",
    "outputId": "2087cfb9-5e9a-40a5-9d43-4e94b9cbcfb0"
   },
   "outputs": [
    {
     "name": "stdout",
     "output_type": "stream",
     "text": [
      "The total of bad seismic traces is: 9632\n",
      "The total of good seismic traces is: 2965\n"
     ]
    }
   ],
   "source": [
    "print('The total of bad seismic traces is:', len(np.where(label_data==0)[0]))\n",
    "print('The total of good seismic traces is:', len(np.nonzero(label_data)[0]))"
   ]
  },
  {
   "cell_type": "markdown",
   "metadata": {
    "id": "c40ENz0AASM6"
   },
   "source": [
    "## 3. Preprocessing data\n",
    "Get the data ready for the subsequent analysis or computations. The most common preprocessing step in machine learning is to [standardize features](http://scikit-learn.org/stable/modules/generated/sklearn.preprocessing.StandardScaler.html) by removing the mean and scaling to unit variance. <br>\n",
    "<br>\n"
   ]
  },
  {
   "cell_type": "code",
   "execution_count": 3,
   "metadata": {
    "id": "1pnTq4XvASM6",
    "tags": []
   },
   "outputs": [],
   "source": [
    "np.random.seed(42)\n",
    "all_data = np.append(amp_data,label_data,1) # put all the seismic traces and their lables into one matrix."
   ]
  },
  {
   "cell_type": "markdown",
   "metadata": {
    "id": "A4vspsH-ASM6"
   },
   "source": [
    "Randomly permute the data stored in the variable **all_data** using <font color=blue>**np.random.permutation**</font>, and store the permuted data in a new variable **all_data_permute**. "
   ]
  },
  {
   "cell_type": "code",
   "execution_count": 4,
   "metadata": {
    "id": "yZhBmjw-ASM7",
    "tags": []
   },
   "outputs": [],
   "source": [
    "all_data_permute = all_data[np.random.permutation(all_data.shape[0]),:] "
   ]
  },
  {
   "cell_type": "markdown",
   "metadata": {
    "id": "n5hn87KXASM8"
   },
   "source": [
    "## 4. Split data into training and cross-validation sets\n",
    "Use the first 10,000 seismic traces as out training data set, and the rest 2,597 traces as test dat set."
   ]
  },
  {
   "cell_type": "code",
   "execution_count": 5,
   "metadata": {
    "id": "WLJRslFqASM8",
    "tags": []
   },
   "outputs": [],
   "source": [
    "X_train = all_data_permute[:10000,:-1]\n",
    "y_train = all_data_permute[:10000,-1]\n",
    "\n",
    "X_validation = all_data_permute[10000:,:-1]\n",
    "y_validation = all_data_permute[10000:,-1]"
   ]
  },
  {
   "cell_type": "markdown",
   "metadata": {
    "id": "tOYaG-3pASM8"
   },
   "source": [
    "Note that, in Scikit-learn, there is a convenient way of splitting the data by using the [train_test_split](http://scikit-learn.org/stable/modules/generated/sklearn.model_selection.train_test_split.html) module, which is widely used in practice. To keep things consistent, and more importantly, to keep the comparison of the prediction accuracies from different ML algorithms fair, I manually split the whole set of data into a training and validation set."
   ]
  },
  {
   "cell_type": "markdown",
   "metadata": {
    "id": "HTQoZR9BASM9"
   },
   "source": [
    "## 5. Import and set up RF classifer\n",
    "Import [**RandomForestClassifier**](http://scikit-learn.org/stable/modules/generated/sklearn.ensemble.RandomForestClassifier.html) from Scikit-Learn. Set up your RandomForestClassifier by setting **n_estimators = 100**, **max_depth = 10**, **random_state = 42**, and **class_weight = 'balanced_subsample'**, and assign this classifier to a new variable **rf_clf**.\n"
   ]
  },
  {
   "cell_type": "code",
   "execution_count": 6,
   "metadata": {
    "id": "EMMNXQ2OASM9",
    "tags": []
   },
   "outputs": [],
   "source": [
    "from sklearn.ensemble import RandomForestClassifier\n",
    "rf_clf = RandomForestClassifier(n_estimators=100,max_depth=10,random_state=42,class_weight='balanced_subsample')"
   ]
  },
  {
   "cell_type": "markdown",
   "metadata": {
    "id": "hKXm_OmAASM-"
   },
   "source": [
    "## 6. Train a RF model\n",
    "Train a RF model using the **training** data set, <font color=blue>**X_train**</font> and <font color=blue>**y_train**</font>, and the classifier, <font color=blue>**rf_clf**</font>, you set up above.\n",
    "<br>\n"
   ]
  },
  {
   "cell_type": "code",
   "execution_count": 7,
   "metadata": {
    "colab": {
     "base_uri": "https://localhost:8080/"
    },
    "id": "4TQVmB9kASM-",
    "outputId": "ae83a482-7cb8-42e5-d016-425be7e40652"
   },
   "outputs": [
    {
     "data": {
      "text/html": [
       "<style>#sk-container-id-1 {color: black;background-color: white;}#sk-container-id-1 pre{padding: 0;}#sk-container-id-1 div.sk-toggleable {background-color: white;}#sk-container-id-1 label.sk-toggleable__label {cursor: pointer;display: block;width: 100%;margin-bottom: 0;padding: 0.3em;box-sizing: border-box;text-align: center;}#sk-container-id-1 label.sk-toggleable__label-arrow:before {content: \"▸\";float: left;margin-right: 0.25em;color: #696969;}#sk-container-id-1 label.sk-toggleable__label-arrow:hover:before {color: black;}#sk-container-id-1 div.sk-estimator:hover label.sk-toggleable__label-arrow:before {color: black;}#sk-container-id-1 div.sk-toggleable__content {max-height: 0;max-width: 0;overflow: hidden;text-align: left;background-color: #f0f8ff;}#sk-container-id-1 div.sk-toggleable__content pre {margin: 0.2em;color: black;border-radius: 0.25em;background-color: #f0f8ff;}#sk-container-id-1 input.sk-toggleable__control:checked~div.sk-toggleable__content {max-height: 200px;max-width: 100%;overflow: auto;}#sk-container-id-1 input.sk-toggleable__control:checked~label.sk-toggleable__label-arrow:before {content: \"▾\";}#sk-container-id-1 div.sk-estimator input.sk-toggleable__control:checked~label.sk-toggleable__label {background-color: #d4ebff;}#sk-container-id-1 div.sk-label input.sk-toggleable__control:checked~label.sk-toggleable__label {background-color: #d4ebff;}#sk-container-id-1 input.sk-hidden--visually {border: 0;clip: rect(1px 1px 1px 1px);clip: rect(1px, 1px, 1px, 1px);height: 1px;margin: -1px;overflow: hidden;padding: 0;position: absolute;width: 1px;}#sk-container-id-1 div.sk-estimator {font-family: monospace;background-color: #f0f8ff;border: 1px dotted black;border-radius: 0.25em;box-sizing: border-box;margin-bottom: 0.5em;}#sk-container-id-1 div.sk-estimator:hover {background-color: #d4ebff;}#sk-container-id-1 div.sk-parallel-item::after {content: \"\";width: 100%;border-bottom: 1px solid gray;flex-grow: 1;}#sk-container-id-1 div.sk-label:hover label.sk-toggleable__label {background-color: #d4ebff;}#sk-container-id-1 div.sk-serial::before {content: \"\";position: absolute;border-left: 1px solid gray;box-sizing: border-box;top: 0;bottom: 0;left: 50%;z-index: 0;}#sk-container-id-1 div.sk-serial {display: flex;flex-direction: column;align-items: center;background-color: white;padding-right: 0.2em;padding-left: 0.2em;position: relative;}#sk-container-id-1 div.sk-item {position: relative;z-index: 1;}#sk-container-id-1 div.sk-parallel {display: flex;align-items: stretch;justify-content: center;background-color: white;position: relative;}#sk-container-id-1 div.sk-item::before, #sk-container-id-1 div.sk-parallel-item::before {content: \"\";position: absolute;border-left: 1px solid gray;box-sizing: border-box;top: 0;bottom: 0;left: 50%;z-index: -1;}#sk-container-id-1 div.sk-parallel-item {display: flex;flex-direction: column;z-index: 1;position: relative;background-color: white;}#sk-container-id-1 div.sk-parallel-item:first-child::after {align-self: flex-end;width: 50%;}#sk-container-id-1 div.sk-parallel-item:last-child::after {align-self: flex-start;width: 50%;}#sk-container-id-1 div.sk-parallel-item:only-child::after {width: 0;}#sk-container-id-1 div.sk-dashed-wrapped {border: 1px dashed gray;margin: 0 0.4em 0.5em 0.4em;box-sizing: border-box;padding-bottom: 0.4em;background-color: white;}#sk-container-id-1 div.sk-label label {font-family: monospace;font-weight: bold;display: inline-block;line-height: 1.2em;}#sk-container-id-1 div.sk-label-container {text-align: center;}#sk-container-id-1 div.sk-container {/* jupyter's `normalize.less` sets `[hidden] { display: none; }` but bootstrap.min.css set `[hidden] { display: none !important; }` so we also need the `!important` here to be able to override the default hidden behavior on the sphinx rendered scikit-learn.org. See: https://github.com/scikit-learn/scikit-learn/issues/21755 */display: inline-block !important;position: relative;}#sk-container-id-1 div.sk-text-repr-fallback {display: none;}</style><div id=\"sk-container-id-1\" class=\"sk-top-container\"><div class=\"sk-text-repr-fallback\"><pre>RandomForestClassifier(class_weight=&#x27;balanced_subsample&#x27;, max_depth=10,\n",
       "                       random_state=42)</pre><b>In a Jupyter environment, please rerun this cell to show the HTML representation or trust the notebook. <br />On GitHub, the HTML representation is unable to render, please try loading this page with nbviewer.org.</b></div><div class=\"sk-container\" hidden><div class=\"sk-item\"><div class=\"sk-estimator sk-toggleable\"><input class=\"sk-toggleable__control sk-hidden--visually\" id=\"sk-estimator-id-1\" type=\"checkbox\" checked><label for=\"sk-estimator-id-1\" class=\"sk-toggleable__label sk-toggleable__label-arrow\">RandomForestClassifier</label><div class=\"sk-toggleable__content\"><pre>RandomForestClassifier(class_weight=&#x27;balanced_subsample&#x27;, max_depth=10,\n",
       "                       random_state=42)</pre></div></div></div></div></div>"
      ],
      "text/plain": [
       "RandomForestClassifier(class_weight='balanced_subsample', max_depth=10,\n",
       "                       random_state=42)"
      ]
     },
     "execution_count": 7,
     "metadata": {},
     "output_type": "execute_result"
    }
   ],
   "source": [
    "rf_clf.fit(X_train,y_train)"
   ]
  },
  {
   "cell_type": "markdown",
   "metadata": {
    "id": "Kmx59OmbASM-"
   },
   "source": [
    "## 7. Evaluation\n",
    "Make predictions on the <font color=blue>**validation**</font> data set, and assign the predictions to a new variable, **y_pred**. <br>"
   ]
  },
  {
   "cell_type": "code",
   "execution_count": 8,
   "metadata": {
    "id": "fCbWbugEASM-",
    "tags": []
   },
   "outputs": [],
   "source": [
    "y_pred = rf_clf.predict(X_validation)"
   ]
  },
  {
   "cell_type": "markdown",
   "metadata": {
    "id": "Pg8HIExBASM-"
   },
   "source": [
    "Import **classification_report** from **sklearn.metrics**. Print out the classification report. \n"
   ]
  },
  {
   "cell_type": "code",
   "execution_count": 9,
   "metadata": {
    "colab": {
     "base_uri": "https://localhost:8080/"
    },
    "id": "zfhQbf3EASM_",
    "outputId": "7119e650-60e7-49fd-8523-29ef3b7bf5bc"
   },
   "outputs": [
    {
     "name": "stdout",
     "output_type": "stream",
     "text": [
      "              precision    recall  f1-score   support\n",
      "\n",
      "         0.0       0.95      0.87      0.91      1994\n",
      "         1.0       0.66      0.85      0.74       603\n",
      "\n",
      "    accuracy                           0.86      2597\n",
      "   macro avg       0.81      0.86      0.83      2597\n",
      "weighted avg       0.88      0.86      0.87      2597\n",
      "\n"
     ]
    }
   ],
   "source": [
    "from sklearn.metrics import classification_report\n",
    "print(classification_report(y_validation,y_pred))"
   ]
  },
  {
   "cell_type": "code",
   "execution_count": 14,
   "metadata": {
    "colab": {
     "base_uri": "https://localhost:8080/",
     "height": 484
    },
    "id": "4IC1YFz-ASM_",
    "outputId": "631dac5c-01c3-417f-846a-6a39948b737a"
   },
   "outputs": [
    {
     "name": "stdout",
     "output_type": "stream",
     "text": [
      "Feature ranking:\n",
      "1. feature 49 (0.072604)\n",
      "2. feature 47 (0.057146)\n",
      "3. feature 48 (0.052083)\n",
      "4. feature 50 (0.048997)\n",
      "5. feature 51 (0.047240)\n",
      "6. feature 52 (0.046064)\n",
      "7. feature 53 (0.041756)\n",
      "8. feature 54 (0.026702)\n",
      "9. feature 46 (0.024174)\n",
      "10. feature 55 (0.023600)\n"
     ]
    },
    {
     "data": {
      "image/png": "[encoded data removed]",
      "text/plain": [
       "<Figure size 640x480 with 1 Axes>"
      ]
     },
     "metadata": {},
     "output_type": "display_data"
    }
   ],
   "source": [
    "# The following code is based on a modification of the codes in this webpage\n",
    "# http://scikit-learn.org/stable/auto_examples/ensemble/plot_forest_importances.html\n",
    "importances = rf_clf.feature_importances_\n",
    "indices = np.argsort(importances)[::-1]\n",
    "\n",
    "# Print the feature ranking\n",
    "print(\"Feature ranking:\")\n",
    "\n",
    "for f in range(10):\n",
    "    print(\"%d. feature %d (%f)\" % (f + 1, indices[f], importances[indices[f]]))\n",
    "\n",
    "# Plot the feature importances of the forest\n",
    "import matplotlib.pyplot as plt\n",
    "plt.figure()\n",
    "plt.title(\"Feature importances\")\n",
    "plt.bar(range(50), importances[indices][:50])\n",
    "# plt.xticks(range(50), indices, rotation = 90)\n",
    "plt.xlim([-1, 50])\n",
    "plt.tight_layout()\n",
    "plt.show()"
   ]
  },
  {
   "cell_type": "code",
   "execution_count": 15,
   "metadata": {
    "colab": {
     "base_uri": "https://localhost:8080/"
    },
    "id": "-0j2Osm4ASNA",
    "outputId": "9e3ba5ae-d908-4f36-b4f5-20ca73b1ad87"
   },
   "outputs": [
    {
     "data": {
      "text/plain": [
       "0.07669999999999999"
      ]
     },
     "execution_count": 15,
     "metadata": {},
     "output_type": "execute_result"
    }
   ],
   "source": [
    "# The prediction error on training data\n",
    "1 - rf_clf.score(X_train, y_train)"
   ]
  },
  {
   "cell_type": "code",
   "execution_count": 20,
   "metadata": {
    "colab": {
     "base_uri": "https://localhost:8080/"
    },
    "id": "bUMzquPJASNA",
    "outputId": "f2921631-2bb1-495b-d493-75c1f5256893"
   },
   "outputs": [
    {
     "name": "stdout",
     "output_type": "stream",
     "text": [
      "0.13554100885637277\n"
     ]
    }
   ],
   "source": [
    "# The prediction error on validation data\n",
    "print(1-rf_clf.score(X_validation,y_validation))"
   ]
  },
  {
   "cell_type": "markdown",
   "metadata": {
    "id": "hILJfBk4ASNA"
   },
   "source": [
    "## 8. Construct error curves\n",
    "Construct error curves by training a sequence of Random Forests."
   ]
  },
  {
   "cell_type": "code",
   "execution_count": 21,
   "metadata": {
    "id": "8suCMIN5ASNB",
    "tags": []
   },
   "outputs": [],
   "source": [
    "train_errors = np.zeros(25)\n",
    "validation_errors = np.zeros(25)"
   ]
  },
  {
   "cell_type": "code",
   "execution_count": 22,
   "metadata": {
    "colab": {
     "base_uri": "https://localhost:8080/"
    },
    "id": "RFVLwGkZASNB",
    "outputId": "69d54ea1-822b-4ca6-855d-18f893931f2e"
   },
   "outputs": [
    {
     "name": "stdout",
     "output_type": "stream",
     "text": [
      "Random Forest with max_depth =  1\n",
      "Random Forest with max_depth =  2\n",
      "Random Forest with max_depth =  3\n",
      "Random Forest with max_depth =  4\n",
      "Random Forest with max_depth =  5\n",
      "Random Forest with max_depth =  6\n",
      "Random Forest with max_depth =  7\n",
      "Random Forest with max_depth =  8\n",
      "Random Forest with max_depth =  9\n",
      "Random Forest with max_depth =  10\n",
      "Random Forest with max_depth =  11\n",
      "Random Forest with max_depth =  12\n",
      "Random Forest with max_depth =  13\n",
      "Random Forest with max_depth =  14\n",
      "Random Forest with max_depth =  15\n",
      "Random Forest with max_depth =  16\n",
      "Random Forest with max_depth =  17\n",
      "Random Forest with max_depth =  18\n",
      "Random Forest with max_depth =  19\n",
      "Random Forest with max_depth =  20\n",
      "Random Forest with max_depth =  21\n",
      "Random Forest with max_depth =  22\n",
      "Random Forest with max_depth =  23\n",
      "Random Forest with max_depth =  24\n",
      "Random Forest with max_depth =  25\n"
     ]
    }
   ],
   "source": [
    "for idepth in np.arange(1,26):\n",
    "    print('Random Forest with max_depth = ', idepth)\n",
    "    # set up RandomForestClassifier. Hint: max_depth = idepth.\n",
    "    rf_clf = RandomForestClassifier(n_estimators=100,max_depth=idepth,random_state=42,class_weight='balanced_subsample')\n",
    "    \n",
    "    # perform training using training data\n",
    "    rf_clf.fit(X_train,y_train)\n",
    "    \n",
    "    # make predictions using validation data\n",
    "    y_pred = rf_clf.predict(X_validation)\n",
    "    \n",
    "    # save prediction errors to train_errors, and validation_errors\n",
    "    train_errors[idepth-1] = 1 - rf_clf.score(X_train, y_train)\n",
    "    validation_errors[idepth-1]= 1 - rf_clf.score(X_validation,y_validation)"
   ]
  },
  {
   "cell_type": "code",
   "execution_count": 23,
   "metadata": {
    "colab": {
     "base_uri": "https://localhost:8080/"
    },
    "id": "0OchTXfLASNB",
    "outputId": "4989b05c-c48f-4e66-d248-c9a2189a5ba6"
   },
   "outputs": [
    {
     "name": "stdout",
     "output_type": "stream",
     "text": [
      "The minimum validation error is :  0.10165575664227955\n",
      "The best prediction arracy is: 0.8983442433577205\n",
      "The minimum validation error (i.e., the best prediction accuracy) occurs when max_depth =  22\n"
     ]
    }
   ],
   "source": [
    "print(\"The minimum validation error is : \", min(validation_errors))\n",
    "print(\"The best prediction arracy is:\", 1 - min(validation_errors))\n",
    "\n",
    "best_depth = np.argmin(validation_errors) + 1\n",
    "print(\"The minimum validation error (i.e., the best prediction accuracy) occurs when max_depth = \", best_depth)"
   ]
  },
  {
   "cell_type": "code",
   "execution_count": 24,
   "metadata": {
    "colab": {
     "base_uri": "https://localhost:8080/",
     "height": 310
    },
    "id": "4P1oB2LkASNC",
    "outputId": "f90ab576-a4c7-4d59-b31c-6e5d98d09378",
    "scrolled": true
   },
   "outputs": [
    {
     "data": {
      "image/png": "[encoded data removed]",
      "text/plain": [
       "<Figure size 640x480 with 1 Axes>"
      ]
     },
     "metadata": {},
     "output_type": "display_data"
    }
   ],
   "source": [
    "max_depth =  np.arange(1,26)\n",
    "plt.plot(max_depth,train_errors,'-ro',label=\"training errors\")\n",
    "plt.plot(max_depth,validation_errors,'-bo',label=\"validation errors\")\n",
    "plt.plot(best_depth,validation_errors[best_depth-1],'gD',label=\"Best Depth\")\n",
    "#plt.plot([best_depth,best_depth],[0,validation_errors[best_depth-1]],'g-')\n",
    "plt.title('error curves',fontsize=20)\n",
    "plt.legend(loc=\"upper right\", fontsize=16)\n",
    "plt.xlabel(\"Max_depth\", fontsize=20)\n",
    "plt.ylabel(\"Prediction errors\", fontsize=20, rotation=90)\n",
    "plt.show()"
   ]
  },
  {
   "cell_type": "markdown",
   "metadata": {
    "id": "VTmZ7sgTASNC"
   },
   "source": [
    "## 9. Applications of Random Forests to geoscience "
   ]
  },
  {
   "cell_type": "markdown",
   "metadata": {
    "id": "P7T3X09uSA3W"
   },
   "source": [
    "## Automatic classification of endogenous landslide seismicity using the Random Forest supervised classifier\n",
    "\n",
    "[AGU](https://agupubs.onlinelibrary.wiley.com/doi/full/10.1002/2016GL070709)\n",
    "\n",
    "Deformation of slow moving landslides in clays induces endogenous seismicity of low magnitude seismic events. Long records are needed to identify the seismic sources and understand the mechanisms, which would be intensly time consuming to classify by hand. The authors propose using automatic classification based on the computaion of 71 seismic attributes using a random forrest supervised classifier. The authors report the random forrest classifier retrieves 93% of sensitivity when compared to a manually interpreted catalog.\n",
    "\n",
    "## Uranium anomalies detection through Random Forest regression\n",
    "\n",
    "[Exploration Geophysics](https://www.tandfonline.com/doi/abs/10.1080/08123985.2020.1725387)\n",
    "\n",
    "The authors propose using a new method to detect uranium through airborne surveys through regression using the Random Forrest algorithm. A random selection of 10% of the database is used as the training data, they estimate the expected uranium with an $R^2 = 0.99$ compared to the measured uranium. The conclusion is the deviation between measured uranium and expected uranium to represent secondary effects such as weather, soil alteration, and other local effects."
   ]
  },
  {
   "cell_type": "markdown",
   "metadata": {
    "id": "JSMng5klASNC"
   },
   "source": [
    "## Acknowledgments\n",
    "I would like to thank Ying Zhang for manually labeling all the seismic traces, and Prof. Aibing Li for making this data set available to the students in this class. Ms. Zhang also kindly explained the fundamentals of seismic P-wave receiver functions. \n",
    "\n",
    "<img src = \"https://drive.google.com/uc?id=1vk_r0_eHQO9PfHY3D6L4_zQ8DUFVg4hJ\" width=\"600\">\n"
   ]
  },
  {
   "cell_type": "code",
   "execution_count": null,
   "metadata": {},
   "outputs": [],
   "source": []
  }
 ],
 "metadata": {
  "colab": {
   "collapsed_sections": [],
   "provenance": []
  },
  "kernelspec": {
   "display_name": "Python 3 (ipykernel)",
   "language": "python",
   "name": "python3"
  },
  "language_info": {
   "codemirror_mode": {
    "name": "ipython",
    "version": 3
   },
   "file_extension": ".py",
   "mimetype": "text/x-python",
   "name": "python",
   "nbconvert_exporter": "python",
   "pygments_lexer": "ipython3",
   "version": "3.11.0"
  }
 },
 "nbformat": 4,
 "nbformat_minor": 4
}
